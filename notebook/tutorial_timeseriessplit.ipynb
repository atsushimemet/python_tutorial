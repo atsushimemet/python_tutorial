{
 "cells": [
  {
   "cell_type": "markdown",
   "id": "811f0789-ab58-430d-a77e-5decb91ffd6d",
   "metadata": {},
   "source": [
    "# 時系列データセットを学習・評価データに分割する。"
   ]
  },
  {
   "cell_type": "markdown",
   "id": "ffb9d869-7994-40af-a62f-cbe52a7461de",
   "metadata": {},
   "source": [
    "```\n",
    "例えば、2020/01 ~ 2020/12のデータが与えられた時に、 2020/01 ~ 2020/12のデータを全て使用して学習し、\n",
    "学習した結果生成されたモデルを、2020/12のデータで評価することを考える。しかしこれには問題がある。\n",
    "この問題を直感的に順を追って説明する。\n",
    "\n",
    "まず、モデルの生成過程は2020/01 ~ 2020/12のデータから特徴量(X)と目的変数(y)を生成、\n",
    "このXとyからモデルはXとyの対応関係を学ぶ、といったものである。\n",
    "\n",
    "次に、評価について考える。今回は2020/12のデータを評価のデータセットとしているが、このデータセットは\n",
    "学習でも用いられている。つまり学習したことでモデルは2020/12のデータにあるXとyの対応関係を既に学んでいる。\n",
    "評価ではモデルに対して、2020/12のデータから抽出されたXを入力し予測されたy_hatを得るが、2020/12の\n",
    "データは学習時に既にモデルによって\"見られているため\"、カンニングしているようなものである。\n",
    "\n",
    "そのため学習データと評価データを分割する際は、時期を区別して分割しなければならない。\n",
    "このノートブックでは、時系列データセットを学習・評価データに分割する方法を紹介していく。\n",
    "```"
   ]
  },
  {
   "cell_type": "markdown",
   "id": "dde394ba-6d74-437e-bc39-1a93fdd53a43",
   "metadata": {
    "tags": []
   },
   "source": [
    "# Referrence"
   ]
  },
  {
   "cell_type": "markdown",
   "id": "61644e60-f94d-410e-83c7-6b418374d2e1",
   "metadata": {},
   "source": [
    "[参考: Python: 時系列データの交差検証と TimeSeriesSplit の改良について](https://blog.amedama.jp/entry/time-series-cv)"
   ]
  },
  {
   "cell_type": "markdown",
   "id": "7569ec40-99d9-48c8-a811-f1457f83aff5",
   "metadata": {},
   "source": [
    "# Environment"
   ]
  },
  {
   "cell_type": "markdown",
   "id": "ef970a41-0823-4778-827d-1731b86083f2",
   "metadata": {
    "tags": []
   },
   "source": [
    "## Library"
   ]
  },
  {
   "cell_type": "code",
   "execution_count": 66,
   "id": "0671c479-f85f-4cb7-a63c-defc9dab5d88",
   "metadata": {},
   "outputs": [],
   "source": [
    "from calendar import month_name\n",
    "\n",
    "import matplotlib.pyplot as plt\n",
    "import pandas as pd\n",
    "import seaborn as sns\n",
    "from sklearn.model_selection import TimeSeriesSplit\n",
    "\n",
    "%matplotlib inline"
   ]
  },
  {
   "cell_type": "markdown",
   "id": "908aa2b7-6037-4714-b02a-f321830a79c5",
   "metadata": {},
   "source": [
    "## Functions"
   ]
  },
  {
   "cell_type": "code",
   "execution_count": 69,
   "id": "055b467b-1c92-4319-b65e-1caa44d9dfac",
   "metadata": {},
   "outputs": [],
   "source": [
    "def view_train_test_split(\n",
    "    data_num: int, l_train_idx: list = l_train_idx, l_test_idx: list = l_test_idx\n",
    ") -> None:\n",
    "    \"\"\"The view of train test split.\n",
    "    \n",
    "    Args:\n",
    "        data_num(int): the number of data set.\n",
    "        l_train_idx(list): the index of train of data set.\n",
    "        l_test_idx(list): the index of test of data set.\n",
    "    \n",
    "    Returns:\n",
    "        None\n",
    "    \"\"\"\n",
    "    # 2つ目のデータセット\n",
    "    train_idx = l_train_idx[data_num]\n",
    "    test_idx = l_test_idx[data_num]\n",
    "    train = flights.iloc[train_idx, :]\n",
    "    test = flights.iloc[test_idx, :]\n",
    "    display(\"train:\", train.head())\n",
    "    display(\"test:\", test.head())\n",
    "    sns.lineplot(data=flights, x=\"year_month\", y=\"passengers\", label=\"all\")\n",
    "    sns.lineplot(data=train, x=\"year_month\", y=\"passengers\", label=\"train\")\n",
    "    sns.lineplot(data=test, x=\"year_month\", y=\"passengers\", label=\"test\")"
   ]
  },
  {
   "cell_type": "markdown",
   "id": "8cae5826-ef2f-434a-8838-47c3642ed19e",
   "metadata": {},
   "source": [
    "# Main"
   ]
  },
  {
   "cell_type": "markdown",
   "id": "3d1b7f32-2567-43a6-8e48-a4a907c56c0f",
   "metadata": {},
   "source": [
    "## seabornに付属する航空機の旅客数の時系列データを読み込む。"
   ]
  },
  {
   "cell_type": "code",
   "execution_count": 26,
   "id": "0aa08cb2-b8b5-40cc-b16c-95289d70b29e",
   "metadata": {},
   "outputs": [
    {
     "data": {
      "text/html": [
       "<div>\n",
       "<style scoped>\n",
       "    .dataframe tbody tr th:only-of-type {\n",
       "        vertical-align: middle;\n",
       "    }\n",
       "\n",
       "    .dataframe tbody tr th {\n",
       "        vertical-align: top;\n",
       "    }\n",
       "\n",
       "    .dataframe thead th {\n",
       "        text-align: right;\n",
       "    }\n",
       "</style>\n",
       "<table border=\"1\" class=\"dataframe\">\n",
       "  <thead>\n",
       "    <tr style=\"text-align: right;\">\n",
       "      <th></th>\n",
       "      <th>year</th>\n",
       "      <th>month</th>\n",
       "      <th>passengers</th>\n",
       "    </tr>\n",
       "  </thead>\n",
       "  <tbody>\n",
       "    <tr>\n",
       "      <th>0</th>\n",
       "      <td>1949</td>\n",
       "      <td>Jan</td>\n",
       "      <td>112</td>\n",
       "    </tr>\n",
       "    <tr>\n",
       "      <th>1</th>\n",
       "      <td>1949</td>\n",
       "      <td>Feb</td>\n",
       "      <td>118</td>\n",
       "    </tr>\n",
       "    <tr>\n",
       "      <th>2</th>\n",
       "      <td>1949</td>\n",
       "      <td>Mar</td>\n",
       "      <td>132</td>\n",
       "    </tr>\n",
       "    <tr>\n",
       "      <th>3</th>\n",
       "      <td>1949</td>\n",
       "      <td>Apr</td>\n",
       "      <td>129</td>\n",
       "    </tr>\n",
       "    <tr>\n",
       "      <th>4</th>\n",
       "      <td>1949</td>\n",
       "      <td>May</td>\n",
       "      <td>121</td>\n",
       "    </tr>\n",
       "  </tbody>\n",
       "</table>\n",
       "</div>"
      ],
      "text/plain": [
       "   year month  passengers\n",
       "0  1949   Jan         112\n",
       "1  1949   Feb         118\n",
       "2  1949   Mar         132\n",
       "3  1949   Apr         129\n",
       "4  1949   May         121"
      ]
     },
     "execution_count": 26,
     "metadata": {},
     "output_type": "execute_result"
    }
   ],
   "source": [
    "flights = sns.load_dataset(\"flights\")\n",
    "flights.head()"
   ]
  },
  {
   "cell_type": "markdown",
   "id": "c460aa28-3b04-49da-94aa-b07e8a898f7b",
   "metadata": {},
   "source": [
    "## 時系列を表すyear_month列を生成する。"
   ]
  },
  {
   "cell_type": "code",
   "execution_count": 27,
   "id": "edfd6155-ae0a-49f3-ae30-5171376cc296",
   "metadata": {},
   "outputs": [
    {
     "data": {
      "text/plain": [
       "{'': '00',\n",
       " 'Jan': '01',\n",
       " 'Feb': '02',\n",
       " 'Mar': '03',\n",
       " 'Apr': '04',\n",
       " 'May': '05',\n",
       " 'Jun': '06',\n",
       " 'Jul': '07',\n",
       " 'Aug': '08',\n",
       " 'Sep': '09',\n",
       " 'Oct': '10',\n",
       " 'Nov': '11',\n",
       " 'Dec': '12'}"
      ]
     },
     "execution_count": 27,
     "metadata": {},
     "output_type": "execute_result"
    }
   ],
   "source": [
    "# month列を数値による月に変更するための辞書を生成する。\n",
    "# NOTE: Jan -> 01\n",
    "month_name_mapping = {name[:3]: f\"{i:02}\" for i, name in enumerate(month_name)}\n",
    "month_name_mapping"
   ]
  },
  {
   "cell_type": "code",
   "execution_count": 28,
   "id": "d020d1cc-fa46-414b-a537-b67ddd1b26cc",
   "metadata": {},
   "outputs": [
    {
     "data": {
      "text/html": [
       "<div>\n",
       "<style scoped>\n",
       "    .dataframe tbody tr th:only-of-type {\n",
       "        vertical-align: middle;\n",
       "    }\n",
       "\n",
       "    .dataframe tbody tr th {\n",
       "        vertical-align: top;\n",
       "    }\n",
       "\n",
       "    .dataframe thead th {\n",
       "        text-align: right;\n",
       "    }\n",
       "</style>\n",
       "<table border=\"1\" class=\"dataframe\">\n",
       "  <thead>\n",
       "    <tr style=\"text-align: right;\">\n",
       "      <th></th>\n",
       "      <th>year</th>\n",
       "      <th>month</th>\n",
       "      <th>passengers</th>\n",
       "      <th>month_int</th>\n",
       "    </tr>\n",
       "  </thead>\n",
       "  <tbody>\n",
       "    <tr>\n",
       "      <th>0</th>\n",
       "      <td>1949</td>\n",
       "      <td>Jan</td>\n",
       "      <td>112</td>\n",
       "      <td>01</td>\n",
       "    </tr>\n",
       "    <tr>\n",
       "      <th>1</th>\n",
       "      <td>1949</td>\n",
       "      <td>Feb</td>\n",
       "      <td>118</td>\n",
       "      <td>02</td>\n",
       "    </tr>\n",
       "    <tr>\n",
       "      <th>2</th>\n",
       "      <td>1949</td>\n",
       "      <td>Mar</td>\n",
       "      <td>132</td>\n",
       "      <td>03</td>\n",
       "    </tr>\n",
       "    <tr>\n",
       "      <th>3</th>\n",
       "      <td>1949</td>\n",
       "      <td>Apr</td>\n",
       "      <td>129</td>\n",
       "      <td>04</td>\n",
       "    </tr>\n",
       "    <tr>\n",
       "      <th>4</th>\n",
       "      <td>1949</td>\n",
       "      <td>May</td>\n",
       "      <td>121</td>\n",
       "      <td>05</td>\n",
       "    </tr>\n",
       "  </tbody>\n",
       "</table>\n",
       "</div>"
      ],
      "text/plain": [
       "   year month  passengers month_int\n",
       "0  1949   Jan         112        01\n",
       "1  1949   Feb         118        02\n",
       "2  1949   Mar         132        03\n",
       "3  1949   Apr         129        04\n",
       "4  1949   May         121        05"
      ]
     },
     "execution_count": 28,
     "metadata": {},
     "output_type": "execute_result"
    }
   ],
   "source": [
    "# month列を数値による列に変更する。\n",
    "flights[\"month_int\"] = flights[\"month\"].apply(\n",
    "    lambda str_3_month_name: month_name_mapping[str_3_month_name]\n",
    ")\n",
    "flights.head()"
   ]
  },
  {
   "cell_type": "code",
   "execution_count": 29,
   "id": "bff23ab6-caa1-4257-89dc-878abd1373fc",
   "metadata": {},
   "outputs": [
    {
     "data": {
      "text/html": [
       "<div>\n",
       "<style scoped>\n",
       "    .dataframe tbody tr th:only-of-type {\n",
       "        vertical-align: middle;\n",
       "    }\n",
       "\n",
       "    .dataframe tbody tr th {\n",
       "        vertical-align: top;\n",
       "    }\n",
       "\n",
       "    .dataframe thead th {\n",
       "        text-align: right;\n",
       "    }\n",
       "</style>\n",
       "<table border=\"1\" class=\"dataframe\">\n",
       "  <thead>\n",
       "    <tr style=\"text-align: right;\">\n",
       "      <th></th>\n",
       "      <th>year</th>\n",
       "      <th>month</th>\n",
       "      <th>passengers</th>\n",
       "      <th>month_int</th>\n",
       "      <th>year_month</th>\n",
       "    </tr>\n",
       "  </thead>\n",
       "  <tbody>\n",
       "    <tr>\n",
       "      <th>0</th>\n",
       "      <td>1949</td>\n",
       "      <td>Jan</td>\n",
       "      <td>112</td>\n",
       "      <td>01</td>\n",
       "      <td>194901</td>\n",
       "    </tr>\n",
       "    <tr>\n",
       "      <th>1</th>\n",
       "      <td>1949</td>\n",
       "      <td>Feb</td>\n",
       "      <td>118</td>\n",
       "      <td>02</td>\n",
       "      <td>194902</td>\n",
       "    </tr>\n",
       "    <tr>\n",
       "      <th>2</th>\n",
       "      <td>1949</td>\n",
       "      <td>Mar</td>\n",
       "      <td>132</td>\n",
       "      <td>03</td>\n",
       "      <td>194903</td>\n",
       "    </tr>\n",
       "    <tr>\n",
       "      <th>3</th>\n",
       "      <td>1949</td>\n",
       "      <td>Apr</td>\n",
       "      <td>129</td>\n",
       "      <td>04</td>\n",
       "      <td>194904</td>\n",
       "    </tr>\n",
       "    <tr>\n",
       "      <th>4</th>\n",
       "      <td>1949</td>\n",
       "      <td>May</td>\n",
       "      <td>121</td>\n",
       "      <td>05</td>\n",
       "      <td>194905</td>\n",
       "    </tr>\n",
       "  </tbody>\n",
       "</table>\n",
       "</div>"
      ],
      "text/plain": [
       "   year month  passengers month_int year_month\n",
       "0  1949   Jan         112        01     194901\n",
       "1  1949   Feb         118        02     194902\n",
       "2  1949   Mar         132        03     194903\n",
       "3  1949   Apr         129        04     194904\n",
       "4  1949   May         121        05     194905"
      ]
     },
     "execution_count": 29,
     "metadata": {},
     "output_type": "execute_result"
    }
   ],
   "source": [
    "# year_month列を生成する。\n",
    "flights[\"year_month\"] = flights[\"year\"].astype(str) + flights[\"month_int\"].astype(str)\n",
    "flights.head()"
   ]
  },
  {
   "cell_type": "code",
   "execution_count": 36,
   "id": "32b5801a-4dc5-450a-9503-56808cb805de",
   "metadata": {},
   "outputs": [
    {
     "data": {
      "text/html": [
       "<div>\n",
       "<style scoped>\n",
       "    .dataframe tbody tr th:only-of-type {\n",
       "        vertical-align: middle;\n",
       "    }\n",
       "\n",
       "    .dataframe tbody tr th {\n",
       "        vertical-align: top;\n",
       "    }\n",
       "\n",
       "    .dataframe thead th {\n",
       "        text-align: right;\n",
       "    }\n",
       "</style>\n",
       "<table border=\"1\" class=\"dataframe\">\n",
       "  <thead>\n",
       "    <tr style=\"text-align: right;\">\n",
       "      <th></th>\n",
       "      <th>year</th>\n",
       "      <th>month</th>\n",
       "      <th>passengers</th>\n",
       "      <th>month_int</th>\n",
       "      <th>year_month</th>\n",
       "    </tr>\n",
       "  </thead>\n",
       "  <tbody>\n",
       "    <tr>\n",
       "      <th>0</th>\n",
       "      <td>1949</td>\n",
       "      <td>Jan</td>\n",
       "      <td>112</td>\n",
       "      <td>01</td>\n",
       "      <td>1949-01-01</td>\n",
       "    </tr>\n",
       "    <tr>\n",
       "      <th>1</th>\n",
       "      <td>1949</td>\n",
       "      <td>Feb</td>\n",
       "      <td>118</td>\n",
       "      <td>02</td>\n",
       "      <td>1949-02-01</td>\n",
       "    </tr>\n",
       "    <tr>\n",
       "      <th>2</th>\n",
       "      <td>1949</td>\n",
       "      <td>Mar</td>\n",
       "      <td>132</td>\n",
       "      <td>03</td>\n",
       "      <td>1949-03-01</td>\n",
       "    </tr>\n",
       "    <tr>\n",
       "      <th>3</th>\n",
       "      <td>1949</td>\n",
       "      <td>Apr</td>\n",
       "      <td>129</td>\n",
       "      <td>04</td>\n",
       "      <td>1949-04-01</td>\n",
       "    </tr>\n",
       "    <tr>\n",
       "      <th>4</th>\n",
       "      <td>1949</td>\n",
       "      <td>May</td>\n",
       "      <td>121</td>\n",
       "      <td>05</td>\n",
       "      <td>1949-05-01</td>\n",
       "    </tr>\n",
       "  </tbody>\n",
       "</table>\n",
       "</div>"
      ],
      "text/plain": [
       "   year month  passengers month_int year_month\n",
       "0  1949   Jan         112        01 1949-01-01\n",
       "1  1949   Feb         118        02 1949-02-01\n",
       "2  1949   Mar         132        03 1949-03-01\n",
       "3  1949   Apr         129        04 1949-04-01\n",
       "4  1949   May         121        05 1949-05-01"
      ]
     },
     "execution_count": 36,
     "metadata": {},
     "output_type": "execute_result"
    }
   ],
   "source": [
    "# year_month列を時系列を表す列としてテーブルに認識させる。\n",
    "flights[\"year_month\"] = pd.to_datetime(flights[\"year_month\"], format=\"%Y%m\")\n",
    "flights.head()"
   ]
  },
  {
   "cell_type": "markdown",
   "id": "95dd7816-1174-4600-a3be-0b0ef6dbce6c",
   "metadata": {},
   "source": [
    "## year_month列を使用して、時系列昇順に並び替える。"
   ]
  },
  {
   "cell_type": "code",
   "execution_count": 39,
   "id": "3ad3b690-9abb-4cae-bad5-6ff7ef25dcc8",
   "metadata": {},
   "outputs": [
    {
     "data": {
      "text/html": [
       "<div>\n",
       "<style scoped>\n",
       "    .dataframe tbody tr th:only-of-type {\n",
       "        vertical-align: middle;\n",
       "    }\n",
       "\n",
       "    .dataframe tbody tr th {\n",
       "        vertical-align: top;\n",
       "    }\n",
       "\n",
       "    .dataframe thead th {\n",
       "        text-align: right;\n",
       "    }\n",
       "</style>\n",
       "<table border=\"1\" class=\"dataframe\">\n",
       "  <thead>\n",
       "    <tr style=\"text-align: right;\">\n",
       "      <th></th>\n",
       "      <th>year</th>\n",
       "      <th>month</th>\n",
       "      <th>passengers</th>\n",
       "      <th>month_int</th>\n",
       "      <th>year_month</th>\n",
       "    </tr>\n",
       "  </thead>\n",
       "  <tbody>\n",
       "    <tr>\n",
       "      <th>0</th>\n",
       "      <td>1949</td>\n",
       "      <td>Jan</td>\n",
       "      <td>112</td>\n",
       "      <td>01</td>\n",
       "      <td>1949-01-01</td>\n",
       "    </tr>\n",
       "    <tr>\n",
       "      <th>1</th>\n",
       "      <td>1949</td>\n",
       "      <td>Feb</td>\n",
       "      <td>118</td>\n",
       "      <td>02</td>\n",
       "      <td>1949-02-01</td>\n",
       "    </tr>\n",
       "    <tr>\n",
       "      <th>2</th>\n",
       "      <td>1949</td>\n",
       "      <td>Mar</td>\n",
       "      <td>132</td>\n",
       "      <td>03</td>\n",
       "      <td>1949-03-01</td>\n",
       "    </tr>\n",
       "    <tr>\n",
       "      <th>3</th>\n",
       "      <td>1949</td>\n",
       "      <td>Apr</td>\n",
       "      <td>129</td>\n",
       "      <td>04</td>\n",
       "      <td>1949-04-01</td>\n",
       "    </tr>\n",
       "    <tr>\n",
       "      <th>4</th>\n",
       "      <td>1949</td>\n",
       "      <td>May</td>\n",
       "      <td>121</td>\n",
       "      <td>05</td>\n",
       "      <td>1949-05-01</td>\n",
       "    </tr>\n",
       "  </tbody>\n",
       "</table>\n",
       "</div>"
      ],
      "text/plain": [
       "   year month  passengers month_int year_month\n",
       "0  1949   Jan         112        01 1949-01-01\n",
       "1  1949   Feb         118        02 1949-02-01\n",
       "2  1949   Mar         132        03 1949-03-01\n",
       "3  1949   Apr         129        04 1949-04-01\n",
       "4  1949   May         121        05 1949-05-01"
      ]
     },
     "execution_count": 39,
     "metadata": {},
     "output_type": "execute_result"
    }
   ],
   "source": [
    "flights = flights.sort_values(by=\"year_month\", ascending=True)\n",
    "flights.head()"
   ]
  },
  {
   "cell_type": "markdown",
   "id": "451123ef-1d90-4a0f-a4c2-fcc3f36f25fe",
   "metadata": {},
   "source": [
    "## 分割方法を指定するfold変数を生成する。"
   ]
  },
  {
   "cell_type": "code",
   "execution_count": 42,
   "id": "27298b0c-83d6-4a5e-ada7-0492ea6d4e02",
   "metadata": {},
   "outputs": [
    {
     "data": {
      "text/plain": [
       "TimeSeriesSplit(gap=0, max_train_size=None, n_splits=5, test_size=None)"
      ]
     },
     "execution_count": 42,
     "metadata": {},
     "output_type": "execute_result"
    }
   ],
   "source": [
    "fold = TimeSeriesSplit(n_splits=5)\n",
    "fold"
   ]
  },
  {
   "cell_type": "code",
   "execution_count": 47,
   "id": "6cc17a35-9cc4-4f0f-9e77-6015bd47e8dd",
   "metadata": {},
   "outputs": [],
   "source": [
    "l_train_idx = []\n",
    "l_test_idx = []\n",
    "for _fold in fold.split(flights):\n",
    "    train_idx, test_idx = _fold\n",
    "    l_train_idx.append(train_idx)\n",
    "    l_test_idx.append(test_idx)"
   ]
  },
  {
   "cell_type": "code",
   "execution_count": 70,
   "id": "c0ee8896-9cc6-4058-a9f8-7c3c5b7caa03",
   "metadata": {},
   "outputs": [
    {
     "data": {
      "text/plain": [
       "'train:'"
      ]
     },
     "metadata": {},
     "output_type": "display_data"
    },
    {
     "data": {
      "text/html": [
       "<div>\n",
       "<style scoped>\n",
       "    .dataframe tbody tr th:only-of-type {\n",
       "        vertical-align: middle;\n",
       "    }\n",
       "\n",
       "    .dataframe tbody tr th {\n",
       "        vertical-align: top;\n",
       "    }\n",
       "\n",
       "    .dataframe thead th {\n",
       "        text-align: right;\n",
       "    }\n",
       "</style>\n",
       "<table border=\"1\" class=\"dataframe\">\n",
       "  <thead>\n",
       "    <tr style=\"text-align: right;\">\n",
       "      <th></th>\n",
       "      <th>year</th>\n",
       "      <th>month</th>\n",
       "      <th>passengers</th>\n",
       "      <th>month_int</th>\n",
       "      <th>year_month</th>\n",
       "    </tr>\n",
       "  </thead>\n",
       "  <tbody>\n",
       "    <tr>\n",
       "      <th>0</th>\n",
       "      <td>1949</td>\n",
       "      <td>Jan</td>\n",
       "      <td>112</td>\n",
       "      <td>01</td>\n",
       "      <td>1949-01-01</td>\n",
       "    </tr>\n",
       "    <tr>\n",
       "      <th>1</th>\n",
       "      <td>1949</td>\n",
       "      <td>Feb</td>\n",
       "      <td>118</td>\n",
       "      <td>02</td>\n",
       "      <td>1949-02-01</td>\n",
       "    </tr>\n",
       "    <tr>\n",
       "      <th>2</th>\n",
       "      <td>1949</td>\n",
       "      <td>Mar</td>\n",
       "      <td>132</td>\n",
       "      <td>03</td>\n",
       "      <td>1949-03-01</td>\n",
       "    </tr>\n",
       "    <tr>\n",
       "      <th>3</th>\n",
       "      <td>1949</td>\n",
       "      <td>Apr</td>\n",
       "      <td>129</td>\n",
       "      <td>04</td>\n",
       "      <td>1949-04-01</td>\n",
       "    </tr>\n",
       "    <tr>\n",
       "      <th>4</th>\n",
       "      <td>1949</td>\n",
       "      <td>May</td>\n",
       "      <td>121</td>\n",
       "      <td>05</td>\n",
       "      <td>1949-05-01</td>\n",
       "    </tr>\n",
       "  </tbody>\n",
       "</table>\n",
       "</div>"
      ],
      "text/plain": [
       "   year month  passengers month_int year_month\n",
       "0  1949   Jan         112        01 1949-01-01\n",
       "1  1949   Feb         118        02 1949-02-01\n",
       "2  1949   Mar         132        03 1949-03-01\n",
       "3  1949   Apr         129        04 1949-04-01\n",
       "4  1949   May         121        05 1949-05-01"
      ]
     },
     "metadata": {},
     "output_type": "display_data"
    },
    {
     "data": {
      "text/plain": [
       "'test:'"
      ]
     },
     "metadata": {},
     "output_type": "display_data"
    },
    {
     "data": {
      "text/html": [
       "<div>\n",
       "<style scoped>\n",
       "    .dataframe tbody tr th:only-of-type {\n",
       "        vertical-align: middle;\n",
       "    }\n",
       "\n",
       "    .dataframe tbody tr th {\n",
       "        vertical-align: top;\n",
       "    }\n",
       "\n",
       "    .dataframe thead th {\n",
       "        text-align: right;\n",
       "    }\n",
       "</style>\n",
       "<table border=\"1\" class=\"dataframe\">\n",
       "  <thead>\n",
       "    <tr style=\"text-align: right;\">\n",
       "      <th></th>\n",
       "      <th>year</th>\n",
       "      <th>month</th>\n",
       "      <th>passengers</th>\n",
       "      <th>month_int</th>\n",
       "      <th>year_month</th>\n",
       "    </tr>\n",
       "  </thead>\n",
       "  <tbody>\n",
       "    <tr>\n",
       "      <th>24</th>\n",
       "      <td>1951</td>\n",
       "      <td>Jan</td>\n",
       "      <td>145</td>\n",
       "      <td>01</td>\n",
       "      <td>1951-01-01</td>\n",
       "    </tr>\n",
       "    <tr>\n",
       "      <th>25</th>\n",
       "      <td>1951</td>\n",
       "      <td>Feb</td>\n",
       "      <td>150</td>\n",
       "      <td>02</td>\n",
       "      <td>1951-02-01</td>\n",
       "    </tr>\n",
       "    <tr>\n",
       "      <th>26</th>\n",
       "      <td>1951</td>\n",
       "      <td>Mar</td>\n",
       "      <td>178</td>\n",
       "      <td>03</td>\n",
       "      <td>1951-03-01</td>\n",
       "    </tr>\n",
       "    <tr>\n",
       "      <th>27</th>\n",
       "      <td>1951</td>\n",
       "      <td>Apr</td>\n",
       "      <td>163</td>\n",
       "      <td>04</td>\n",
       "      <td>1951-04-01</td>\n",
       "    </tr>\n",
       "    <tr>\n",
       "      <th>28</th>\n",
       "      <td>1951</td>\n",
       "      <td>May</td>\n",
       "      <td>172</td>\n",
       "      <td>05</td>\n",
       "      <td>1951-05-01</td>\n",
       "    </tr>\n",
       "  </tbody>\n",
       "</table>\n",
       "</div>"
      ],
      "text/plain": [
       "    year month  passengers month_int year_month\n",
       "24  1951   Jan         145        01 1951-01-01\n",
       "25  1951   Feb         150        02 1951-02-01\n",
       "26  1951   Mar         178        03 1951-03-01\n",
       "27  1951   Apr         163        04 1951-04-01\n",
       "28  1951   May         172        05 1951-05-01"
      ]
     },
     "metadata": {},
     "output_type": "display_data"
    },
    {
     "data": {
      "image/png": "[encoded data removed]",
      "text/plain": [
       "<Figure size 432x288 with 1 Axes>"
      ]
     },
     "metadata": {
      "needs_background": "light"
     },
     "output_type": "display_data"
    }
   ],
   "source": [
    "# 1つ目のデータセット\n",
    "view_train_test_split(0)"
   ]
  },
  {
   "cell_type": "markdown",
   "id": "a9e269e5-4b07-4add-aa71-f9aca1d6f9bd",
   "metadata": {},
   "source": [
    "```\n",
    "オレンジ色の区間で学習して、緑色の区間でテストしている。\n",
    "```"
   ]
  },
  {
   "cell_type": "code",
   "execution_count": 71,
   "id": "512178d8-2cf0-4a16-a71f-1a871d0ec7fe",
   "metadata": {},
   "outputs": [
    {
     "data": {
      "text/plain": [
       "'train:'"
      ]
     },
     "metadata": {},
     "output_type": "display_data"
    },
    {
     "data": {
      "text/html": [
       "<div>\n",
       "<style scoped>\n",
       "    .dataframe tbody tr th:only-of-type {\n",
       "        vertical-align: middle;\n",
       "    }\n",
       "\n",
       "    .dataframe tbody tr th {\n",
       "        vertical-align: top;\n",
       "    }\n",
       "\n",
       "    .dataframe thead th {\n",
       "        text-align: right;\n",
       "    }\n",
       "</style>\n",
       "<table border=\"1\" class=\"dataframe\">\n",
       "  <thead>\n",
       "    <tr style=\"text-align: right;\">\n",
       "      <th></th>\n",
       "      <th>year</th>\n",
       "      <th>month</th>\n",
       "      <th>passengers</th>\n",
       "      <th>month_int</th>\n",
       "      <th>year_month</th>\n",
       "    </tr>\n",
       "  </thead>\n",
       "  <tbody>\n",
       "    <tr>\n",
       "      <th>0</th>\n",
       "      <td>1949</td>\n",
       "      <td>Jan</td>\n",
       "      <td>112</td>\n",
       "      <td>01</td>\n",
       "      <td>1949-01-01</td>\n",
       "    </tr>\n",
       "    <tr>\n",
       "      <th>1</th>\n",
       "      <td>1949</td>\n",
       "      <td>Feb</td>\n",
       "      <td>118</td>\n",
       "      <td>02</td>\n",
       "      <td>1949-02-01</td>\n",
       "    </tr>\n",
       "    <tr>\n",
       "      <th>2</th>\n",
       "      <td>1949</td>\n",
       "      <td>Mar</td>\n",
       "      <td>132</td>\n",
       "      <td>03</td>\n",
       "      <td>1949-03-01</td>\n",
       "    </tr>\n",
       "    <tr>\n",
       "      <th>3</th>\n",
       "      <td>1949</td>\n",
       "      <td>Apr</td>\n",
       "      <td>129</td>\n",
       "      <td>04</td>\n",
       "      <td>1949-04-01</td>\n",
       "    </tr>\n",
       "    <tr>\n",
       "      <th>4</th>\n",
       "      <td>1949</td>\n",
       "      <td>May</td>\n",
       "      <td>121</td>\n",
       "      <td>05</td>\n",
       "      <td>1949-05-01</td>\n",
       "    </tr>\n",
       "  </tbody>\n",
       "</table>\n",
       "</div>"
      ],
      "text/plain": [
       "   year month  passengers month_int year_month\n",
       "0  1949   Jan         112        01 1949-01-01\n",
       "1  1949   Feb         118        02 1949-02-01\n",
       "2  1949   Mar         132        03 1949-03-01\n",
       "3  1949   Apr         129        04 1949-04-01\n",
       "4  1949   May         121        05 1949-05-01"
      ]
     },
     "metadata": {},
     "output_type": "display_data"
    },
    {
     "data": {
      "text/plain": [
       "'test:'"
      ]
     },
     "metadata": {},
     "output_type": "display_data"
    },
    {
     "data": {
      "text/html": [
       "<div>\n",
       "<style scoped>\n",
       "    .dataframe tbody tr th:only-of-type {\n",
       "        vertical-align: middle;\n",
       "    }\n",
       "\n",
       "    .dataframe tbody tr th {\n",
       "        vertical-align: top;\n",
       "    }\n",
       "\n",
       "    .dataframe thead th {\n",
       "        text-align: right;\n",
       "    }\n",
       "</style>\n",
       "<table border=\"1\" class=\"dataframe\">\n",
       "  <thead>\n",
       "    <tr style=\"text-align: right;\">\n",
       "      <th></th>\n",
       "      <th>year</th>\n",
       "      <th>month</th>\n",
       "      <th>passengers</th>\n",
       "      <th>month_int</th>\n",
       "      <th>year_month</th>\n",
       "    </tr>\n",
       "  </thead>\n",
       "  <tbody>\n",
       "    <tr>\n",
       "      <th>48</th>\n",
       "      <td>1953</td>\n",
       "      <td>Jan</td>\n",
       "      <td>196</td>\n",
       "      <td>01</td>\n",
       "      <td>1953-01-01</td>\n",
       "    </tr>\n",
       "    <tr>\n",
       "      <th>49</th>\n",
       "      <td>1953</td>\n",
       "      <td>Feb</td>\n",
       "      <td>196</td>\n",
       "      <td>02</td>\n",
       "      <td>1953-02-01</td>\n",
       "    </tr>\n",
       "    <tr>\n",
       "      <th>50</th>\n",
       "      <td>1953</td>\n",
       "      <td>Mar</td>\n",
       "      <td>236</td>\n",
       "      <td>03</td>\n",
       "      <td>1953-03-01</td>\n",
       "    </tr>\n",
       "    <tr>\n",
       "      <th>51</th>\n",
       "      <td>1953</td>\n",
       "      <td>Apr</td>\n",
       "      <td>235</td>\n",
       "      <td>04</td>\n",
       "      <td>1953-04-01</td>\n",
       "    </tr>\n",
       "    <tr>\n",
       "      <th>52</th>\n",
       "      <td>1953</td>\n",
       "      <td>May</td>\n",
       "      <td>229</td>\n",
       "      <td>05</td>\n",
       "      <td>1953-05-01</td>\n",
       "    </tr>\n",
       "  </tbody>\n",
       "</table>\n",
       "</div>"
      ],
      "text/plain": [
       "    year month  passengers month_int year_month\n",
       "48  1953   Jan         196        01 1953-01-01\n",
       "49  1953   Feb         196        02 1953-02-01\n",
       "50  1953   Mar         236        03 1953-03-01\n",
       "51  1953   Apr         235        04 1953-04-01\n",
       "52  1953   May         229        05 1953-05-01"
      ]
     },
     "metadata": {},
     "output_type": "display_data"
    },
    {
     "data": {
      "image/png": "[encoded data removed]",
      "text/plain": [
       "<Figure size 432x288 with 1 Axes>"
      ]
     },
     "metadata": {
      "needs_background": "light"
     },
     "output_type": "display_data"
    }
   ],
   "source": [
    "# 2つ目のデータセット\n",
    "view_train_test_split(1)"
   ]
  },
  {
   "cell_type": "markdown",
   "id": "5bad5b10-2976-41b8-8dcc-3b876d5fc5bd",
   "metadata": {},
   "source": [
    "```\n",
    "オレンジ色の区間で学習して、緑色の区間でテストしている。\n",
    "学習期間が伸びている\n",
    "```"
   ]
  },
  {
   "cell_type": "code",
   "execution_count": 72,
   "id": "f38a3d85-e059-4668-8a86-471445618394",
   "metadata": {},
   "outputs": [
    {
     "data": {
      "text/plain": [
       "'train:'"
      ]
     },
     "metadata": {},
     "output_type": "display_data"
    },
    {
     "data": {
      "text/html": [
       "<div>\n",
       "<style scoped>\n",
       "    .dataframe tbody tr th:only-of-type {\n",
       "        vertical-align: middle;\n",
       "    }\n",
       "\n",
       "    .dataframe tbody tr th {\n",
       "        vertical-align: top;\n",
       "    }\n",
       "\n",
       "    .dataframe thead th {\n",
       "        text-align: right;\n",
       "    }\n",
       "</style>\n",
       "<table border=\"1\" class=\"dataframe\">\n",
       "  <thead>\n",
       "    <tr style=\"text-align: right;\">\n",
       "      <th></th>\n",
       "      <th>year</th>\n",
       "      <th>month</th>\n",
       "      <th>passengers</th>\n",
       "      <th>month_int</th>\n",
       "      <th>year_month</th>\n",
       "    </tr>\n",
       "  </thead>\n",
       "  <tbody>\n",
       "    <tr>\n",
       "      <th>0</th>\n",
       "      <td>1949</td>\n",
       "      <td>Jan</td>\n",
       "      <td>112</td>\n",
       "      <td>01</td>\n",
       "      <td>1949-01-01</td>\n",
       "    </tr>\n",
       "    <tr>\n",
       "      <th>1</th>\n",
       "      <td>1949</td>\n",
       "      <td>Feb</td>\n",
       "      <td>118</td>\n",
       "      <td>02</td>\n",
       "      <td>1949-02-01</td>\n",
       "    </tr>\n",
       "    <tr>\n",
       "      <th>2</th>\n",
       "      <td>1949</td>\n",
       "      <td>Mar</td>\n",
       "      <td>132</td>\n",
       "      <td>03</td>\n",
       "      <td>1949-03-01</td>\n",
       "    </tr>\n",
       "    <tr>\n",
       "      <th>3</th>\n",
       "      <td>1949</td>\n",
       "      <td>Apr</td>\n",
       "      <td>129</td>\n",
       "      <td>04</td>\n",
       "      <td>1949-04-01</td>\n",
       "    </tr>\n",
       "    <tr>\n",
       "      <th>4</th>\n",
       "      <td>1949</td>\n",
       "      <td>May</td>\n",
       "      <td>121</td>\n",
       "      <td>05</td>\n",
       "      <td>1949-05-01</td>\n",
       "    </tr>\n",
       "  </tbody>\n",
       "</table>\n",
       "</div>"
      ],
      "text/plain": [
       "   year month  passengers month_int year_month\n",
       "0  1949   Jan         112        01 1949-01-01\n",
       "1  1949   Feb         118        02 1949-02-01\n",
       "2  1949   Mar         132        03 1949-03-01\n",
       "3  1949   Apr         129        04 1949-04-01\n",
       "4  1949   May         121        05 1949-05-01"
      ]
     },
     "metadata": {},
     "output_type": "display_data"
    },
    {
     "data": {
      "text/plain": [
       "'test:'"
      ]
     },
     "metadata": {},
     "output_type": "display_data"
    },
    {
     "data": {
      "text/html": [
       "<div>\n",
       "<style scoped>\n",
       "    .dataframe tbody tr th:only-of-type {\n",
       "        vertical-align: middle;\n",
       "    }\n",
       "\n",
       "    .dataframe tbody tr th {\n",
       "        vertical-align: top;\n",
       "    }\n",
       "\n",
       "    .dataframe thead th {\n",
       "        text-align: right;\n",
       "    }\n",
       "</style>\n",
       "<table border=\"1\" class=\"dataframe\">\n",
       "  <thead>\n",
       "    <tr style=\"text-align: right;\">\n",
       "      <th></th>\n",
       "      <th>year</th>\n",
       "      <th>month</th>\n",
       "      <th>passengers</th>\n",
       "      <th>month_int</th>\n",
       "      <th>year_month</th>\n",
       "    </tr>\n",
       "  </thead>\n",
       "  <tbody>\n",
       "    <tr>\n",
       "      <th>72</th>\n",
       "      <td>1955</td>\n",
       "      <td>Jan</td>\n",
       "      <td>242</td>\n",
       "      <td>01</td>\n",
       "      <td>1955-01-01</td>\n",
       "    </tr>\n",
       "    <tr>\n",
       "      <th>73</th>\n",
       "      <td>1955</td>\n",
       "      <td>Feb</td>\n",
       "      <td>233</td>\n",
       "      <td>02</td>\n",
       "      <td>1955-02-01</td>\n",
       "    </tr>\n",
       "    <tr>\n",
       "      <th>74</th>\n",
       "      <td>1955</td>\n",
       "      <td>Mar</td>\n",
       "      <td>267</td>\n",
       "      <td>03</td>\n",
       "      <td>1955-03-01</td>\n",
       "    </tr>\n",
       "    <tr>\n",
       "      <th>75</th>\n",
       "      <td>1955</td>\n",
       "      <td>Apr</td>\n",
       "      <td>269</td>\n",
       "      <td>04</td>\n",
       "      <td>1955-04-01</td>\n",
       "    </tr>\n",
       "    <tr>\n",
       "      <th>76</th>\n",
       "      <td>1955</td>\n",
       "      <td>May</td>\n",
       "      <td>270</td>\n",
       "      <td>05</td>\n",
       "      <td>1955-05-01</td>\n",
       "    </tr>\n",
       "  </tbody>\n",
       "</table>\n",
       "</div>"
      ],
      "text/plain": [
       "    year month  passengers month_int year_month\n",
       "72  1955   Jan         242        01 1955-01-01\n",
       "73  1955   Feb         233        02 1955-02-01\n",
       "74  1955   Mar         267        03 1955-03-01\n",
       "75  1955   Apr         269        04 1955-04-01\n",
       "76  1955   May         270        05 1955-05-01"
      ]
     },
     "metadata": {},
     "output_type": "display_data"
    },
    {
     "data": {
      "image/png": "[encoded data removed]",
      "text/plain": [
       "<Figure size 432x288 with 1 Axes>"
      ]
     },
     "metadata": {
      "needs_background": "light"
     },
     "output_type": "display_data"
    }
   ],
   "source": [
    "# 3つ目のデータセット\n",
    "view_train_test_split(2)"
   ]
  },
  {
   "cell_type": "markdown",
   "id": "a7d3a54f-4ebd-46d0-a3bf-190f81e613e1",
   "metadata": {},
   "source": [
    "```\n",
    "オレンジ色の区間で学習して、緑色の区間でテストしている。\n",
    "さらに学習期間が伸びている\n",
    "```"
   ]
  },
  {
   "cell_type": "code",
   "execution_count": 73,
   "id": "a7d69052-7cc7-4d25-90ad-8ad9d7bc3f94",
   "metadata": {},
   "outputs": [
    {
     "data": {
      "text/plain": [
       "'train:'"
      ]
     },
     "metadata": {},
     "output_type": "display_data"
    },
    {
     "data": {
      "text/html": [
       "<div>\n",
       "<style scoped>\n",
       "    .dataframe tbody tr th:only-of-type {\n",
       "        vertical-align: middle;\n",
       "    }\n",
       "\n",
       "    .dataframe tbody tr th {\n",
       "        vertical-align: top;\n",
       "    }\n",
       "\n",
       "    .dataframe thead th {\n",
       "        text-align: right;\n",
       "    }\n",
       "</style>\n",
       "<table border=\"1\" class=\"dataframe\">\n",
       "  <thead>\n",
       "    <tr style=\"text-align: right;\">\n",
       "      <th></th>\n",
       "      <th>year</th>\n",
       "      <th>month</th>\n",
       "      <th>passengers</th>\n",
       "      <th>month_int</th>\n",
       "      <th>year_month</th>\n",
       "    </tr>\n",
       "  </thead>\n",
       "  <tbody>\n",
       "    <tr>\n",
       "      <th>0</th>\n",
       "      <td>1949</td>\n",
       "      <td>Jan</td>\n",
       "      <td>112</td>\n",
       "      <td>01</td>\n",
       "      <td>1949-01-01</td>\n",
       "    </tr>\n",
       "    <tr>\n",
       "      <th>1</th>\n",
       "      <td>1949</td>\n",
       "      <td>Feb</td>\n",
       "      <td>118</td>\n",
       "      <td>02</td>\n",
       "      <td>1949-02-01</td>\n",
       "    </tr>\n",
       "    <tr>\n",
       "      <th>2</th>\n",
       "      <td>1949</td>\n",
       "      <td>Mar</td>\n",
       "      <td>132</td>\n",
       "      <td>03</td>\n",
       "      <td>1949-03-01</td>\n",
       "    </tr>\n",
       "    <tr>\n",
       "      <th>3</th>\n",
       "      <td>1949</td>\n",
       "      <td>Apr</td>\n",
       "      <td>129</td>\n",
       "      <td>04</td>\n",
       "      <td>1949-04-01</td>\n",
       "    </tr>\n",
       "    <tr>\n",
       "      <th>4</th>\n",
       "      <td>1949</td>\n",
       "      <td>May</td>\n",
       "      <td>121</td>\n",
       "      <td>05</td>\n",
       "      <td>1949-05-01</td>\n",
       "    </tr>\n",
       "  </tbody>\n",
       "</table>\n",
       "</div>"
      ],
      "text/plain": [
       "   year month  passengers month_int year_month\n",
       "0  1949   Jan         112        01 1949-01-01\n",
       "1  1949   Feb         118        02 1949-02-01\n",
       "2  1949   Mar         132        03 1949-03-01\n",
       "3  1949   Apr         129        04 1949-04-01\n",
       "4  1949   May         121        05 1949-05-01"
      ]
     },
     "metadata": {},
     "output_type": "display_data"
    },
    {
     "data": {
      "text/plain": [
       "'test:'"
      ]
     },
     "metadata": {},
     "output_type": "display_data"
    },
    {
     "data": {
      "text/html": [
       "<div>\n",
       "<style scoped>\n",
       "    .dataframe tbody tr th:only-of-type {\n",
       "        vertical-align: middle;\n",
       "    }\n",
       "\n",
       "    .dataframe tbody tr th {\n",
       "        vertical-align: top;\n",
       "    }\n",
       "\n",
       "    .dataframe thead th {\n",
       "        text-align: right;\n",
       "    }\n",
       "</style>\n",
       "<table border=\"1\" class=\"dataframe\">\n",
       "  <thead>\n",
       "    <tr style=\"text-align: right;\">\n",
       "      <th></th>\n",
       "      <th>year</th>\n",
       "      <th>month</th>\n",
       "      <th>passengers</th>\n",
       "      <th>month_int</th>\n",
       "      <th>year_month</th>\n",
       "    </tr>\n",
       "  </thead>\n",
       "  <tbody>\n",
       "    <tr>\n",
       "      <th>96</th>\n",
       "      <td>1957</td>\n",
       "      <td>Jan</td>\n",
       "      <td>315</td>\n",
       "      <td>01</td>\n",
       "      <td>1957-01-01</td>\n",
       "    </tr>\n",
       "    <tr>\n",
       "      <th>97</th>\n",
       "      <td>1957</td>\n",
       "      <td>Feb</td>\n",
       "      <td>301</td>\n",
       "      <td>02</td>\n",
       "      <td>1957-02-01</td>\n",
       "    </tr>\n",
       "    <tr>\n",
       "      <th>98</th>\n",
       "      <td>1957</td>\n",
       "      <td>Mar</td>\n",
       "      <td>356</td>\n",
       "      <td>03</td>\n",
       "      <td>1957-03-01</td>\n",
       "    </tr>\n",
       "    <tr>\n",
       "      <th>99</th>\n",
       "      <td>1957</td>\n",
       "      <td>Apr</td>\n",
       "      <td>348</td>\n",
       "      <td>04</td>\n",
       "      <td>1957-04-01</td>\n",
       "    </tr>\n",
       "    <tr>\n",
       "      <th>100</th>\n",
       "      <td>1957</td>\n",
       "      <td>May</td>\n",
       "      <td>355</td>\n",
       "      <td>05</td>\n",
       "      <td>1957-05-01</td>\n",
       "    </tr>\n",
       "  </tbody>\n",
       "</table>\n",
       "</div>"
      ],
      "text/plain": [
       "     year month  passengers month_int year_month\n",
       "96   1957   Jan         315        01 1957-01-01\n",
       "97   1957   Feb         301        02 1957-02-01\n",
       "98   1957   Mar         356        03 1957-03-01\n",
       "99   1957   Apr         348        04 1957-04-01\n",
       "100  1957   May         355        05 1957-05-01"
      ]
     },
     "metadata": {},
     "output_type": "display_data"
    },
    {
     "data": {
      "image/png": "[encoded data removed]",
      "text/plain": [
       "<Figure size 432x288 with 1 Axes>"
      ]
     },
     "metadata": {
      "needs_background": "light"
     },
     "output_type": "display_data"
    }
   ],
   "source": [
    "# 4つ目のデータセット\n",
    "view_train_test_split(3)"
   ]
  },
  {
   "cell_type": "markdown",
   "id": "6d867b32-3fc4-4dff-a530-35afb39d3bad",
   "metadata": {},
   "source": [
    "```\n",
    "オレンジ色の区間で学習して、緑色の区間でテストしている。\n",
    "さらに学習期間が伸びている\n",
    "```"
   ]
  },
  {
   "cell_type": "code",
   "execution_count": 74,
   "id": "4ab4d389-1232-498e-a9e0-1ea327bafa3d",
   "metadata": {},
   "outputs": [
    {
     "data": {
      "text/plain": [
       "'train:'"
      ]
     },
     "metadata": {},
     "output_type": "display_data"
    },
    {
     "data": {
      "text/html": [
       "<div>\n",
       "<style scoped>\n",
       "    .dataframe tbody tr th:only-of-type {\n",
       "        vertical-align: middle;\n",
       "    }\n",
       "\n",
       "    .dataframe tbody tr th {\n",
       "        vertical-align: top;\n",
       "    }\n",
       "\n",
       "    .dataframe thead th {\n",
       "        text-align: right;\n",
       "    }\n",
       "</style>\n",
       "<table border=\"1\" class=\"dataframe\">\n",
       "  <thead>\n",
       "    <tr style=\"text-align: right;\">\n",
       "      <th></th>\n",
       "      <th>year</th>\n",
       "      <th>month</th>\n",
       "      <th>passengers</th>\n",
       "      <th>month_int</th>\n",
       "      <th>year_month</th>\n",
       "    </tr>\n",
       "  </thead>\n",
       "  <tbody>\n",
       "    <tr>\n",
       "      <th>0</th>\n",
       "      <td>1949</td>\n",
       "      <td>Jan</td>\n",
       "      <td>112</td>\n",
       "      <td>01</td>\n",
       "      <td>1949-01-01</td>\n",
       "    </tr>\n",
       "    <tr>\n",
       "      <th>1</th>\n",
       "      <td>1949</td>\n",
       "      <td>Feb</td>\n",
       "      <td>118</td>\n",
       "      <td>02</td>\n",
       "      <td>1949-02-01</td>\n",
       "    </tr>\n",
       "    <tr>\n",
       "      <th>2</th>\n",
       "      <td>1949</td>\n",
       "      <td>Mar</td>\n",
       "      <td>132</td>\n",
       "      <td>03</td>\n",
       "      <td>1949-03-01</td>\n",
       "    </tr>\n",
       "    <tr>\n",
       "      <th>3</th>\n",
       "      <td>1949</td>\n",
       "      <td>Apr</td>\n",
       "      <td>129</td>\n",
       "      <td>04</td>\n",
       "      <td>1949-04-01</td>\n",
       "    </tr>\n",
       "    <tr>\n",
       "      <th>4</th>\n",
       "      <td>1949</td>\n",
       "      <td>May</td>\n",
       "      <td>121</td>\n",
       "      <td>05</td>\n",
       "      <td>1949-05-01</td>\n",
       "    </tr>\n",
       "  </tbody>\n",
       "</table>\n",
       "</div>"
      ],
      "text/plain": [
       "   year month  passengers month_int year_month\n",
       "0  1949   Jan         112        01 1949-01-01\n",
       "1  1949   Feb         118        02 1949-02-01\n",
       "2  1949   Mar         132        03 1949-03-01\n",
       "3  1949   Apr         129        04 1949-04-01\n",
       "4  1949   May         121        05 1949-05-01"
      ]
     },
     "metadata": {},
     "output_type": "display_data"
    },
    {
     "data": {
      "text/plain": [
       "'test:'"
      ]
     },
     "metadata": {},
     "output_type": "display_data"
    },
    {
     "data": {
      "text/html": [
       "<div>\n",
       "<style scoped>\n",
       "    .dataframe tbody tr th:only-of-type {\n",
       "        vertical-align: middle;\n",
       "    }\n",
       "\n",
       "    .dataframe tbody tr th {\n",
       "        vertical-align: top;\n",
       "    }\n",
       "\n",
       "    .dataframe thead th {\n",
       "        text-align: right;\n",
       "    }\n",
       "</style>\n",
       "<table border=\"1\" class=\"dataframe\">\n",
       "  <thead>\n",
       "    <tr style=\"text-align: right;\">\n",
       "      <th></th>\n",
       "      <th>year</th>\n",
       "      <th>month</th>\n",
       "      <th>passengers</th>\n",
       "      <th>month_int</th>\n",
       "      <th>year_month</th>\n",
       "    </tr>\n",
       "  </thead>\n",
       "  <tbody>\n",
       "    <tr>\n",
       "      <th>120</th>\n",
       "      <td>1959</td>\n",
       "      <td>Jan</td>\n",
       "      <td>360</td>\n",
       "      <td>01</td>\n",
       "      <td>1959-01-01</td>\n",
       "    </tr>\n",
       "    <tr>\n",
       "      <th>121</th>\n",
       "      <td>1959</td>\n",
       "      <td>Feb</td>\n",
       "      <td>342</td>\n",
       "      <td>02</td>\n",
       "      <td>1959-02-01</td>\n",
       "    </tr>\n",
       "    <tr>\n",
       "      <th>122</th>\n",
       "      <td>1959</td>\n",
       "      <td>Mar</td>\n",
       "      <td>406</td>\n",
       "      <td>03</td>\n",
       "      <td>1959-03-01</td>\n",
       "    </tr>\n",
       "    <tr>\n",
       "      <th>123</th>\n",
       "      <td>1959</td>\n",
       "      <td>Apr</td>\n",
       "      <td>396</td>\n",
       "      <td>04</td>\n",
       "      <td>1959-04-01</td>\n",
       "    </tr>\n",
       "    <tr>\n",
       "      <th>124</th>\n",
       "      <td>1959</td>\n",
       "      <td>May</td>\n",
       "      <td>420</td>\n",
       "      <td>05</td>\n",
       "      <td>1959-05-01</td>\n",
       "    </tr>\n",
       "  </tbody>\n",
       "</table>\n",
       "</div>"
      ],
      "text/plain": [
       "     year month  passengers month_int year_month\n",
       "120  1959   Jan         360        01 1959-01-01\n",
       "121  1959   Feb         342        02 1959-02-01\n",
       "122  1959   Mar         406        03 1959-03-01\n",
       "123  1959   Apr         396        04 1959-04-01\n",
       "124  1959   May         420        05 1959-05-01"
      ]
     },
     "metadata": {},
     "output_type": "display_data"
    },
    {
     "data": {
      "image/png": "[encoded data removed]",
      "text/plain": [
       "<Figure size 432x288 with 1 Axes>"
      ]
     },
     "metadata": {
      "needs_background": "light"
     },
     "output_type": "display_data"
    }
   ],
   "source": [
    "# 5つ目のデータセット\n",
    "view_train_test_split(4)"
   ]
  },
  {
   "cell_type": "markdown",
   "id": "30d846af-1574-45b1-9811-9c1d403f98a7",
   "metadata": {},
   "source": [
    "```\n",
    "オレンジ色の区間で学習して、緑色の区間でテストしている。\n",
    "さらに学習期間が伸びている\n",
    "```"
   ]
  }
 ],
 "metadata": {
  "kernelspec": {
   "display_name": "Python 3 (ipykernel)",
   "language": "python",
   "name": "python3"
  },
  "language_info": {
   "codemirror_mode": {
    "name": "ipython",
    "version": 3
   },
   "file_extension": ".py",
   "mimetype": "text/x-python",
   "name": "python",
   "nbconvert_exporter": "python",
   "pygments_lexer": "ipython3",
   "version": "3.8.12"
  },
  "toc-autonumbering": true
 },
 "nbformat": 4,
 "nbformat_minor": 5
}
