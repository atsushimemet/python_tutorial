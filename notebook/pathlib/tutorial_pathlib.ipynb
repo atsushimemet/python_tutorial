{
 "cells": [
  {
   "cell_type": "markdown",
   "id": "de8b5a02-5f7f-4610-be76-bac7efa5d645",
   "metadata": {},
   "source": [
    "# [Python, pathlibの使い方（パスをオブジェクトとして操作・処理）](https://note.nkmk.me/python-pathlib-usage/)"
   ]
  },
  {
   "cell_type": "markdown",
   "id": "9af20ae1-390a-4130-9427-4b3a4f2b5e44",
   "metadata": {},
   "source": [
    "## Envirionment"
   ]
  },
  {
   "cell_type": "code",
   "execution_count": 1,
   "id": "326795af-8d71-4c4e-82d9-de19394c9af9",
   "metadata": {},
   "outputs": [
    {
     "name": "stdout",
     "output_type": "stream",
     "text": [
      "Reading package lists... Done\n",
      "Building dependency tree... Done\n",
      "Reading state information... Done\n",
      "sudo is already the newest version (1.9.5p2-3).\n",
      "0 upgraded, 0 newly installed, 0 to remove and 1 not upgraded.\n",
      "Reading package lists... Done\n",
      "Building dependency tree... Done\n",
      "Reading state information... Done\n",
      "tree is already the newest version (1.8.0-1+b1).\n",
      "0 upgraded, 0 newly installed, 0 to remove and 1 not upgraded.\n"
     ]
    }
   ],
   "source": [
    "!apt-get install sudo\n",
    "!sudo apt-get install tree"
   ]
  },
  {
   "cell_type": "code",
   "execution_count": 2,
   "id": "3d24fb37-6eeb-4e8b-9dfa-b9220a0efef9",
   "metadata": {},
   "outputs": [
    {
     "name": "stdout",
     "output_type": "stream",
     "text": [
      "pathlib [error opening dir]\n",
      "\n",
      "0 directories, 0 files\n"
     ]
    }
   ],
   "source": [
    "!tree pathlib"
   ]
  },
  {
   "cell_type": "markdown",
   "id": "111f22e0-0de5-4a44-9baa-95d4c21e90e7",
   "metadata": {
    "tags": []
   },
   "source": [
    "## Pathオブジェクト(ファイル)"
   ]
  },
  {
   "cell_type": "code",
   "execution_count": 3,
   "id": "59b15bea-cf91-4566-9e09-c062e1c216e7",
   "metadata": {},
   "outputs": [
    {
     "name": "stdout",
     "output_type": "stream",
     "text": [
      "temp/file.txt\n",
      "<class 'pathlib.PosixPath'>\n"
     ]
    }
   ],
   "source": [
    "import os\n",
    "import pathlib\n",
    "import pprint\n",
    "\n",
    "p_file = pathlib.Path(\"./temp/file.txt\")\n",
    "\n",
    "print(p_file)\n",
    "print(type(p_file))"
   ]
  },
  {
   "cell_type": "markdown",
   "id": "6a30e944-c234-451a-871f-cf998a82730b",
   "metadata": {},
   "source": [
    "```\n",
    "例はMacで実行しているので、Macを含むUnix系OSのクラスであるPosixPath型のインスタンスが生成される。Windowsで実行するとWindowsPath型となる。\n",
    "```"
   ]
  },
  {
   "cell_type": "markdown",
   "id": "87f28ac5-d5b2-4ff5-8e99-5780735dbadf",
   "metadata": {
    "tags": []
   },
   "source": [
    "## Pathオブジェクト(ディレクトリ)"
   ]
  },
  {
   "cell_type": "code",
   "execution_count": 4,
   "id": "2b262a23-eb6e-4959-82c3-09fc8a9c5253",
   "metadata": {},
   "outputs": [
    {
     "name": "stdout",
     "output_type": "stream",
     "text": [
      "temp/dir\n",
      "<class 'pathlib.PosixPath'>\n"
     ]
    }
   ],
   "source": [
    "p_dir = pathlib.Path(\"./temp/dir\")\n",
    "\n",
    "print(p_dir)\n",
    "print(type(p_dir))"
   ]
  },
  {
   "cell_type": "markdown",
   "id": "2ca9249b-4d18-4010-8cdd-26dbba7ed754",
   "metadata": {},
   "source": [
    "## オブジェクトがファイル/ディレクトリかどうかを判定する"
   ]
  },
  {
   "cell_type": "code",
   "execution_count": 5,
   "id": "ffebb98e-bcad-41f8-b9b7-6c17d2b1eb40",
   "metadata": {},
   "outputs": [
    {
     "name": "stdout",
     "output_type": "stream",
     "text": [
      "True\n",
      "True\n"
     ]
    }
   ],
   "source": [
    "print(p_file.is_file())\n",
    "print(p_dir.is_dir())"
   ]
  },
  {
   "cell_type": "markdown",
   "id": "b2addcf7-175b-4b3a-9fd6-ba6d9fe14720",
   "metadata": {},
   "source": [
    "## 存在しないパスのオブジェクトを生成することも可能"
   ]
  },
  {
   "cell_type": "code",
   "execution_count": 7,
   "id": "a7a71f16-93b2-4c52-b4bb-4a58b7d2dae6",
   "metadata": {},
   "outputs": [
    {
     "name": "stdout",
     "output_type": "stream",
     "text": [
      "False\n",
      "True\n"
     ]
    }
   ],
   "source": [
    "p_new_file = pathlib.Path('temp/new_file.txt')\n",
    "print(p_new_file.exists())\n",
    "print(p_file.exists())"
   ]
  },
  {
   "cell_type": "markdown",
   "id": "7e93554e-172a-44d6-939d-5883637623db",
   "metadata": {},
   "source": [
    "## 存在しないパスのオブジェクトから新しいファイルやディレクトリを作成"
   ]
  },
  {
   "cell_type": "code",
   "execution_count": 8,
   "id": "11efb7ee-04d8-45ae-af72-cdc438eaa849",
   "metadata": {},
   "outputs": [
    {
     "name": "stdout",
     "output_type": "stream",
     "text": [
      "True\n"
     ]
    }
   ],
   "source": [
    "p_new_file.touch()\n",
    "print(p_new_file.exists())"
   ]
  },
  {
   "cell_type": "code",
   "execution_count": 9,
   "id": "bf8512fb-29b9-431e-b740-76ef7a859de2",
   "metadata": {},
   "outputs": [
    {
     "name": "stdout",
     "output_type": "stream",
     "text": [
      "False\n",
      "True\n"
     ]
    }
   ],
   "source": [
    "print(pathlib.Path('temp/new_file2.txt').exists())\n",
    "pathlib.Path('temp/new_file2.txt').touch()\n",
    "print(pathlib.Path('temp/new_file2.txt').exists())"
   ]
  },
  {
   "cell_type": "markdown",
   "id": "61d4add6-c88b-4d56-9c04-3d668980f5d5",
   "metadata": {},
   "source": [
    "## ディレクトリ直下のパス一覧のイテレータを取得する"
   ]
  },
  {
   "cell_type": "code",
   "execution_count": 10,
   "id": "fd9fc595-1e9e-4866-b6bb-d9356a3d9731",
   "metadata": {},
   "outputs": [
    {
     "data": {
      "text/plain": [
       "<generator object Path.iterdir at 0x7f902f69fdd0>"
      ]
     },
     "execution_count": 10,
     "metadata": {},
     "output_type": "execute_result"
    }
   ],
   "source": [
    "pathlib.Path('temp').iterdir()"
   ]
  },
  {
   "cell_type": "code",
   "execution_count": 11,
   "id": "20cd5be2-5d77-4684-ba2b-7ceda3265646",
   "metadata": {},
   "outputs": [
    {
     "data": {
      "text/plain": [
       "[PosixPath('temp/.ipynb_checkpoints'),\n",
       " PosixPath('temp/dir'),\n",
       " PosixPath('temp/file.txt'),\n",
       " PosixPath('temp/new_file.txt'),\n",
       " PosixPath('temp/new_file2.txt')]"
      ]
     },
     "execution_count": 11,
     "metadata": {},
     "output_type": "execute_result"
    }
   ],
   "source": [
    "list(pathlib.Path('temp').iterdir())"
   ]
  },
  {
   "cell_type": "markdown",
   "id": "7f9d97a5-36f8-4505-b80a-8bf90976260b",
   "metadata": {},
   "source": [
    "## /演算子を使うとパスが連結"
   ]
  },
  {
   "cell_type": "code",
   "execution_count": 12,
   "id": "7d278661-c460-41ca-aee5-39228a55f8ef",
   "metadata": {},
   "outputs": [
    {
     "name": "stdout",
     "output_type": "stream",
     "text": [
      "temp/dir/sub_dir/file2.txt\n",
      "True\n"
     ]
    }
   ],
   "source": [
    "p_sub_dir_file = p_dir / 'sub_dir' / 'file2.txt'\n",
    "print(p_sub_dir_file)\n",
    "print(p_sub_dir_file.is_file())"
   ]
  },
  {
   "cell_type": "markdown",
   "id": "efc10c1d-9a43-4a1d-8773-cc7f70fa9db4",
   "metadata": {},
   "source": [
    "## resolve"
   ]
  },
  {
   "cell_type": "code",
   "execution_count": 14,
   "id": "d5294443-e706-48de-a150-9aa948e7a939",
   "metadata": {},
   "outputs": [
    {
     "name": "stdout",
     "output_type": "stream",
     "text": [
      "/home/work/notebook/pathlib/temp/file.txt\n",
      "/home/work/notebook/pathlib/temp/dir\n"
     ]
    }
   ],
   "source": [
    "print(p_file.resolve())\n",
    "print(p_dir.resolve())"
   ]
  }
 ],
 "metadata": {
  "kernelspec": {
   "display_name": "Python 3 (ipykernel)",
   "language": "python",
   "name": "python3"
  },
  "language_info": {
   "codemirror_mode": {
    "name": "ipython",
    "version": 3
   },
   "file_extension": ".py",
   "mimetype": "text/x-python",
   "name": "python",
   "nbconvert_exporter": "python",
   "pygments_lexer": "ipython3",
   "version": "3.8.12"
  },
  "toc-autonumbering": true
 },
 "nbformat": 4,
 "nbformat_minor": 5
}
