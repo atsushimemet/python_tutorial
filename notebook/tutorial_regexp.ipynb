{
 "cells": [
  {
   "cell_type": "markdown",
   "metadata": {},
   "source": [
    "# Ref"
   ]
  },
  {
   "cell_type": "markdown",
   "metadata": {},
   "source": [
    "[参考: Pythonの正規表現モジュールreの使い方（match、search、subなど）](https://note.nkmk.me/python-re-match-search-findall-etc/)"
   ]
  },
  {
   "cell_type": "markdown",
   "metadata": {},
   "source": [
    "# Main"
   ]
  },
  {
   "cell_type": "markdown",
   "metadata": {},
   "source": [
    "## Subject"
   ]
  },
  {
   "cell_type": "code",
   "execution_count": 6,
   "metadata": {},
   "outputs": [
    {
     "name": "stdout",
     "output_type": "stream",
     "text": [
      "<re.Match object; span=(0, 11), match='aaa@xxx.com'>\n",
      "new-address, new-address, ccc@zzz.net, DDD@aaa.com\n",
      "aaa@xxx.com, bbb@yyy.com, ccc@zzz.net, new-address\n",
      "new-address, new-address, ccc@zzz.net, new-address\n"
     ]
    }
   ],
   "source": [
    "import re\n",
    "\n",
    "s = 'aaa@xxx.com, bbb@yyy.com, ccc@zzz.net, DDD@aaa.com'\n",
    "\n",
    "m = re.match(r'([a-z]+)@([a-z]+)\\.com', s)\n",
    "print(m)\n",
    "\n",
    "result = re.sub(r'([a-z]+)@([a-z]+)\\.com', 'new-address', s)\n",
    "print(result)\n",
    "\n",
    "result = re.sub(r'([A-Z]+)@([a-z]+)\\.com', 'new-address', s)\n",
    "print(result)\n",
    "\n",
    "result = re.sub(r'([a-zA-Z]+)@([a-z]+)\\.com', 'new-address', s)\n",
    "print(result)"
   ]
  },
  {
   "cell_type": "markdown",
   "metadata": {},
   "source": [
    "## About 5th row"
   ]
  },
  {
   "cell_type": "markdown",
   "metadata": {},
   "source": [
    "```\n",
    "シングルクォートの前にあるrはraw文字列であることを示すシンタックス。\n",
    "シングルクォートの中にある文字列は4箇所に分割できる。\n",
    "\n",
    "  1. ([a-z]+)\n",
    "  2. @\n",
    "  3. ([a-z]+)\n",
    "  4. \\.com\n",
    "\n",
    "まず、1から。\n",
    "最も外側に丸括弧がある。丸括弧とは()のこと。\n",
    "この丸括弧は[a-z]+のグループを表す。\n",
    "では、この角括弧であるが、これは文字集合を表す。角括弧とは[]のこと。\n",
    "上記の例では[a-z]とあるのでaからzまでの英語の小文字を表す。\n",
    "(もし[A-Z]とあれば、AからZまでの英語の小文字・大文字を表す。)\n",
    "(もし[a-zA-Z]とあれば、AからZまでの英語の小文字・大文字を表す。)\n",
    "そして、+とある。これは直前の文字を1回以上繰り返すということを表している。\n",
    "\n",
    "次に2であるが、これはただのアットマーク。\n",
    "\n",
    "次に3であるが、これは1に同じ。\n",
    "\n",
    "次に4であるが、\\.comとありバックスラッシュは特殊文字ピリオドをエスケープしている。\n",
    "```"
   ]
  }
 ],
 "metadata": {
  "kernelspec": {
   "display_name": "Python 3",
   "language": "python",
   "name": "python3"
  },
  "language_info": {
   "codemirror_mode": {
    "name": "ipython",
    "version": 3
   },
   "file_extension": ".py",
   "mimetype": "text/x-python",
   "name": "python",
   "nbconvert_exporter": "python",
   "pygments_lexer": "ipython3",
   "version": "3.7.3"
  }
 },
 "nbformat": 4,
 "nbformat_minor": 2
}
